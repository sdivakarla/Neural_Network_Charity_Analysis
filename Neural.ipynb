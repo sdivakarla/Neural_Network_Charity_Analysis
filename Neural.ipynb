{
 "cells": [
  {
   "cell_type": "code",
   "execution_count": null,
   "metadata": {},
   "outputs": [],
   "source": []
  }
 ],
 "metadata": {
  "kernelspec": {
   "display_name": "Python 3.7.13 ('mlenv')",
   "language": "python",
   "name": "python3"
  },
  "language_info": {
   "name": "python",
   "version": "3.7.13"
  },
  "orig_nbformat": 4,
  "vscode": {
   "interpreter": {
    "hash": "2730791c81f549291453b24f012ce98cedd015a3f9fd17cdfc79a2a39137fb0e"
   }
  }
 },
 "nbformat": 4,
 "nbformat_minor": 2
}
